{
 "cells": [
  {
   "cell_type": "code",
   "execution_count": 1,
   "metadata": {},
   "outputs": [
    {
     "name": "stdout",
     "output_type": "stream",
     "text": [
      "Mean Squared Error: 1.0\n"
     ]
    },
    {
     "data": {
      "image/png": "[encoded data removed]",
      "text/plain": [
       "<Figure size 432x288 with 1 Axes>"
      ]
     },
     "metadata": {
      "needs_background": "light"
     },
     "output_type": "display_data"
    }
   ],
   "source": [
    "import numpy as np\n",
    "import matplotlib.pyplot as plt\n",
    "from sklearn.model_selection import train_test_split\n",
    "from sklearn.linear_model import LinearRegression\n",
    "from sklearn.metrics import mean_squared_error\n",
    "\n",
    "# 假设你有两个特征的数据\n",
    "feature1 = [1, 2, 3, 4, 5]\n",
    "feature2 = [2, 3, 4, 5, 6]\n",
    "target = [3, 4, 2, 5, 7]\n",
    "\n",
    "# 将特征组合成一个二维数组\n",
    "X = np.column_stack((feature1, feature2))\n",
    "\n",
    "# 将目标值存储在一维数组中\n",
    "y = np.array(target)\n",
    "\n",
    "# 将数据集划分为训练集和测试集\n",
    "X_train, X_test, y_train, y_test = train_test_split(X, y, test_size=0.2, random_state=42)\n",
    "\n",
    "# 初始化线性回归模型\n",
    "model = LinearRegression()\n",
    "\n",
    "# 训练模型\n",
    "model.fit(X_train, y_train)\n",
    "\n",
    "# 在测试集上进行预测\n",
    "y_pred = model.predict(X_test)\n",
    "\n",
    "# 计算模型的均方误差（Mean Squared Error）\n",
    "mse = mean_squared_error(y_test, y_pred)\n",
    "print(\"Mean Squared Error:\", mse)\n",
    "\n",
    "# 绘制原始数据散点图\n",
    "plt.scatter(X_test[:, 0], y_test, color='black', label='Actual')\n",
    "\n",
    "# 绘制预测线\n",
    "plt.plot(X_test[:, 0], y_pred, color='blue', linewidth=3, label='Predicted')\n",
    "\n",
    "# 设置图形标签\n",
    "plt.title('Linear Regression Prediction')\n",
    "plt.xlabel('Feature 1')\n",
    "plt.ylabel('Target')\n",
    "\n",
    "# 显示图例\n",
    "plt.legend()\n",
    "\n",
    "# 显示图形\n",
    "plt.show()\n"
   ]
  }
 ],
 "metadata": {
  "kernelspec": {
   "display_name": "base",
   "language": "python",
   "name": "python3"
  },
  "language_info": {
   "codemirror_mode": {
    "name": "ipython",
    "version": 3
   },
   "file_extension": ".py",
   "mimetype": "text/x-python",
   "name": "python",
   "nbconvert_exporter": "python",
   "pygments_lexer": "ipython3",
   "version": "3.9.7"
  },
  "orig_nbformat": 4
 },
 "nbformat": 4,
 "nbformat_minor": 2
}
