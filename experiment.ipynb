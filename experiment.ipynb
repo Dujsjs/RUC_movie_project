{
 "cells": [
  {
   "cell_type": "code",
   "execution_count": 1,
   "metadata": {},
   "outputs": [
    {
     "name": "stdout",
     "output_type": "stream",
     "text": [
      "原始数据框:\n",
      "      Name  Score1  Score2  Score3  Score1_Rank  Score2_Rank  Score3_Rank\n",
      "0    Alice      85      90      80          2.0          4.0          1.0\n",
      "1      Bob      92      88      85          3.0          3.0          2.0\n",
      "2  Charlie      78      75      88          1.0          1.0          3.0\n",
      "3    David      95      85      92          4.0          2.0          4.0\n"
     ]
    }
   ],
   "source": [
    "import pandas as pd\n",
    "\n",
    "# 创建示例数据框\n",
    "data = {\n",
    "    'Name': ['Alice', 'Bob', 'Charlie', 'David'],\n",
    "    'Score1': [85, 92, 78, 95],\n",
    "    'Score2': [90, 88, 75, 85],\n",
    "    'Score3': [80, 85, 88, 92]\n",
    "}\n",
    "\n",
    "df = pd.DataFrame(data)\n",
    "\n",
    "# 选择需要排名的列\n",
    "columns_to_rank = ['Score1', 'Score2', 'Score3']\n",
    "\n",
    "# 对每列进行排名并将排名存储到新的列\n",
    "for col in columns_to_rank:\n",
    "    rank_col = f'{col}_Rank'\n",
    "    df[rank_col] = df[col].rank()\n",
    "\n",
    "print(\"原始数据框:\")\n",
    "print(df)\n"
   ]
  }
 ],
 "metadata": {
  "kernelspec": {
   "display_name": "base",
   "language": "python",
   "name": "python3"
  },
  "language_info": {
   "codemirror_mode": {
    "name": "ipython",
    "version": 3
   },
   "file_extension": ".py",
   "mimetype": "text/x-python",
   "name": "python",
   "nbconvert_exporter": "python",
   "pygments_lexer": "ipython3",
   "version": "3.9.7"
  },
  "orig_nbformat": 4
 },
 "nbformat": 4,
 "nbformat_minor": 2
}
